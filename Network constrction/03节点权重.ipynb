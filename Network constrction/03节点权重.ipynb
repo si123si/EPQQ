{
 "cells": [
  {
   "cell_type": "markdown",
   "metadata": {},
   "source": [
    "###节点权重计算-PageRank,基于相关性网络"
   ]
  },
  {
   "cell_type": "code",
   "execution_count": 1,
   "metadata": {},
   "outputs": [
    {
     "name": "stderr",
     "output_type": "stream",
     "text": [
      "C:\\Users\\lenovo\\AppData\\Local\\Temp\\ipykernel_28592\\3487136985.py:24: FutureWarning: The behavior of DataFrame concatenation with empty or all-NA entries is deprecated. In a future version, this will no longer exclude empty or all-NA columns when determining the result dtypes. To retain the old behavior, exclude the relevant entries before the concat operation.\n",
      "  pagerank_df = pd.concat([pagerank_df, episode_pagerank_df], ignore_index=True)\n"
     ]
    },
    {
     "name": "stdout",
     "output_type": "stream",
     "text": [
      "第 1 集 PageRank 结果已保存到: D:/研究生论文/小论文2/代码/03网络图/03节点权重/桃花马上请长缨RAG/pagerank_results_1.xlsx\n",
      "第 2 集 PageRank 结果已保存到: D:/研究生论文/小论文2/代码/03网络图/03节点权重/桃花马上请长缨RAG/pagerank_results_2.xlsx\n",
      "第 3 集 PageRank 结果已保存到: D:/研究生论文/小论文2/代码/03网络图/03节点权重/桃花马上请长缨RAG/pagerank_results_3.xlsx\n",
      "第 4 集 PageRank 结果已保存到: D:/研究生论文/小论文2/代码/03网络图/03节点权重/桃花马上请长缨RAG/pagerank_results_4.xlsx\n",
      "第 5 集 PageRank 结果已保存到: D:/研究生论文/小论文2/代码/03网络图/03节点权重/桃花马上请长缨RAG/pagerank_results_5.xlsx\n",
      "第 6 集 PageRank 结果已保存到: D:/研究生论文/小论文2/代码/03网络图/03节点权重/桃花马上请长缨RAG/pagerank_results_6.xlsx\n",
      "第 7 集 PageRank 结果已保存到: D:/研究生论文/小论文2/代码/03网络图/03节点权重/桃花马上请长缨RAG/pagerank_results_7.xlsx\n",
      "第 8 集 PageRank 结果已保存到: D:/研究生论文/小论文2/代码/03网络图/03节点权重/桃花马上请长缨RAG/pagerank_results_8.xlsx\n",
      "第 9 集 PageRank 结果已保存到: D:/研究生论文/小论文2/代码/03网络图/03节点权重/桃花马上请长缨RAG/pagerank_results_9.xlsx\n",
      "第 10 集 PageRank 结果已保存到: D:/研究生论文/小论文2/代码/03网络图/03节点权重/桃花马上请长缨RAG/pagerank_results_10.xlsx\n",
      "第 11 集 PageRank 结果已保存到: D:/研究生论文/小论文2/代码/03网络图/03节点权重/桃花马上请长缨RAG/pagerank_results_11.xlsx\n",
      "第 12 集 PageRank 结果已保存到: D:/研究生论文/小论文2/代码/03网络图/03节点权重/桃花马上请长缨RAG/pagerank_results_12.xlsx\n",
      "第 13 集 PageRank 结果已保存到: D:/研究生论文/小论文2/代码/03网络图/03节点权重/桃花马上请长缨RAG/pagerank_results_13.xlsx\n",
      "第 14 集 PageRank 结果已保存到: D:/研究生论文/小论文2/代码/03网络图/03节点权重/桃花马上请长缨RAG/pagerank_results_14.xlsx\n",
      "第 15 集 PageRank 结果已保存到: D:/研究生论文/小论文2/代码/03网络图/03节点权重/桃花马上请长缨RAG/pagerank_results_15.xlsx\n",
      "第 16 集 PageRank 结果已保存到: D:/研究生论文/小论文2/代码/03网络图/03节点权重/桃花马上请长缨RAG/pagerank_results_16.xlsx\n",
      "第 17 集 PageRank 结果已保存到: D:/研究生论文/小论文2/代码/03网络图/03节点权重/桃花马上请长缨RAG/pagerank_results_17.xlsx\n",
      "第 18 集 PageRank 结果已保存到: D:/研究生论文/小论文2/代码/03网络图/03节点权重/桃花马上请长缨RAG/pagerank_results_18.xlsx\n",
      "第 19 集 PageRank 结果已保存到: D:/研究生论文/小论文2/代码/03网络图/03节点权重/桃花马上请长缨RAG/pagerank_results_19.xlsx\n",
      "第 20 集 PageRank 结果已保存到: D:/研究生论文/小论文2/代码/03网络图/03节点权重/桃花马上请长缨RAG/pagerank_results_20.xlsx\n",
      "第 21 集 PageRank 结果已保存到: D:/研究生论文/小论文2/代码/03网络图/03节点权重/桃花马上请长缨RAG/pagerank_results_21.xlsx\n",
      "第 22 集 PageRank 结果已保存到: D:/研究生论文/小论文2/代码/03网络图/03节点权重/桃花马上请长缨RAG/pagerank_results_22.xlsx\n",
      "第 23 集 PageRank 结果已保存到: D:/研究生论文/小论文2/代码/03网络图/03节点权重/桃花马上请长缨RAG/pagerank_results_23.xlsx\n",
      "第 24 集 PageRank 结果已保存到: D:/研究生论文/小论文2/代码/03网络图/03节点权重/桃花马上请长缨RAG/pagerank_results_24.xlsx\n",
      "第 25 集 PageRank 结果已保存到: D:/研究生论文/小论文2/代码/03网络图/03节点权重/桃花马上请长缨RAG/pagerank_results_25.xlsx\n",
      "第 26 集 PageRank 结果已保存到: D:/研究生论文/小论文2/代码/03网络图/03节点权重/桃花马上请长缨RAG/pagerank_results_26.xlsx\n",
      "第 27 集 PageRank 结果已保存到: D:/研究生论文/小论文2/代码/03网络图/03节点权重/桃花马上请长缨RAG/pagerank_results_27.xlsx\n",
      "第 28 集 PageRank 结果已保存到: D:/研究生论文/小论文2/代码/03网络图/03节点权重/桃花马上请长缨RAG/pagerank_results_28.xlsx\n",
      "第 29 集 PageRank 结果已保存到: D:/研究生论文/小论文2/代码/03网络图/03节点权重/桃花马上请长缨RAG/pagerank_results_29.xlsx\n",
      "第 30 集 PageRank 结果已保存到: D:/研究生论文/小论文2/代码/03网络图/03节点权重/桃花马上请长缨RAG/pagerank_results_30.xlsx\n",
      "第 31 集 PageRank 结果已保存到: D:/研究生论文/小论文2/代码/03网络图/03节点权重/桃花马上请长缨RAG/pagerank_results_31.xlsx\n",
      "第 32 集 PageRank 结果已保存到: D:/研究生论文/小论文2/代码/03网络图/03节点权重/桃花马上请长缨RAG/pagerank_results_32.xlsx\n",
      "第 33 集 PageRank 结果已保存到: D:/研究生论文/小论文2/代码/03网络图/03节点权重/桃花马上请长缨RAG/pagerank_results_33.xlsx\n",
      "第 34 集 PageRank 结果已保存到: D:/研究生论文/小论文2/代码/03网络图/03节点权重/桃花马上请长缨RAG/pagerank_results_34.xlsx\n",
      "第 35 集 PageRank 结果已保存到: D:/研究生论文/小论文2/代码/03网络图/03节点权重/桃花马上请长缨RAG/pagerank_results_35.xlsx\n",
      "第 36 集 PageRank 结果已保存到: D:/研究生论文/小论文2/代码/03网络图/03节点权重/桃花马上请长缨RAG/pagerank_results_36.xlsx\n",
      "第 37 集 PageRank 结果已保存到: D:/研究生论文/小论文2/代码/03网络图/03节点权重/桃花马上请长缨RAG/pagerank_results_37.xlsx\n",
      "第 38 集 PageRank 结果已保存到: D:/研究生论文/小论文2/代码/03网络图/03节点权重/桃花马上请长缨RAG/pagerank_results_38.xlsx\n",
      "第 39 集 PageRank 结果已保存到: D:/研究生论文/小论文2/代码/03网络图/03节点权重/桃花马上请长缨RAG/pagerank_results_39.xlsx\n",
      "第 40 集 PageRank 结果已保存到: D:/研究生论文/小论文2/代码/03网络图/03节点权重/桃花马上请长缨RAG/pagerank_results_40.xlsx\n",
      "第 41 集 PageRank 结果已保存到: D:/研究生论文/小论文2/代码/03网络图/03节点权重/桃花马上请长缨RAG/pagerank_results_41.xlsx\n",
      "第 42 集 PageRank 结果已保存到: D:/研究生论文/小论文2/代码/03网络图/03节点权重/桃花马上请长缨RAG/pagerank_results_42.xlsx\n",
      "第 43 集 PageRank 结果已保存到: D:/研究生论文/小论文2/代码/03网络图/03节点权重/桃花马上请长缨RAG/pagerank_results_43.xlsx\n",
      "第 44 集 PageRank 结果已保存到: D:/研究生论文/小论文2/代码/03网络图/03节点权重/桃花马上请长缨RAG/pagerank_results_44.xlsx\n",
      "第 45 集 PageRank 结果已保存到: D:/研究生论文/小论文2/代码/03网络图/03节点权重/桃花马上请长缨RAG/pagerank_results_45.xlsx\n",
      "第 46 集 PageRank 结果已保存到: D:/研究生论文/小论文2/代码/03网络图/03节点权重/桃花马上请长缨RAG/pagerank_results_46.xlsx\n",
      "第 47 集 PageRank 结果已保存到: D:/研究生论文/小论文2/代码/03网络图/03节点权重/桃花马上请长缨RAG/pagerank_results_47.xlsx\n",
      "第 48 集 PageRank 结果已保存到: D:/研究生论文/小论文2/代码/03网络图/03节点权重/桃花马上请长缨RAG/pagerank_results_48.xlsx\n",
      "第 49 集 PageRank 结果已保存到: D:/研究生论文/小论文2/代码/03网络图/03节点权重/桃花马上请长缨RAG/pagerank_results_49.xlsx\n",
      "第 50 集 PageRank 结果已保存到: D:/研究生论文/小论文2/代码/03网络图/03节点权重/桃花马上请长缨RAG/pagerank_results_50.xlsx\n",
      "第 51 集 PageRank 结果已保存到: D:/研究生论文/小论文2/代码/03网络图/03节点权重/桃花马上请长缨RAG/pagerank_results_51.xlsx\n",
      "第 52 集 PageRank 结果已保存到: D:/研究生论文/小论文2/代码/03网络图/03节点权重/桃花马上请长缨RAG/pagerank_results_52.xlsx\n",
      "第 53 集 PageRank 结果已保存到: D:/研究生论文/小论文2/代码/03网络图/03节点权重/桃花马上请长缨RAG/pagerank_results_53.xlsx\n",
      "第 54 集 PageRank 结果已保存到: D:/研究生论文/小论文2/代码/03网络图/03节点权重/桃花马上请长缨RAG/pagerank_results_54.xlsx\n",
      "第 55 集 PageRank 结果已保存到: D:/研究生论文/小论文2/代码/03网络图/03节点权重/桃花马上请长缨RAG/pagerank_results_55.xlsx\n",
      "第 56 集 PageRank 结果已保存到: D:/研究生论文/小论文2/代码/03网络图/03节点权重/桃花马上请长缨RAG/pagerank_results_56.xlsx\n",
      "第 57 集 PageRank 结果已保存到: D:/研究生论文/小论文2/代码/03网络图/03节点权重/桃花马上请长缨RAG/pagerank_results_57.xlsx\n",
      "第 58 集 PageRank 结果已保存到: D:/研究生论文/小论文2/代码/03网络图/03节点权重/桃花马上请长缨RAG/pagerank_results_58.xlsx\n",
      "第 59 集 PageRank 结果已保存到: D:/研究生论文/小论文2/代码/03网络图/03节点权重/桃花马上请长缨RAG/pagerank_results_59.xlsx\n",
      "第 60 集 PageRank 结果已保存到: D:/研究生论文/小论文2/代码/03网络图/03节点权重/桃花马上请长缨RAG/pagerank_results_60.xlsx\n",
      "第 61 集 PageRank 结果已保存到: D:/研究生论文/小论文2/代码/03网络图/03节点权重/桃花马上请长缨RAG/pagerank_results_61.xlsx\n",
      "第 62 集 PageRank 结果已保存到: D:/研究生论文/小论文2/代码/03网络图/03节点权重/桃花马上请长缨RAG/pagerank_results_62.xlsx\n",
      "第 63 集 PageRank 结果已保存到: D:/研究生论文/小论文2/代码/03网络图/03节点权重/桃花马上请长缨RAG/pagerank_results_63.xlsx\n",
      "第 64 集 PageRank 结果已保存到: D:/研究生论文/小论文2/代码/03网络图/03节点权重/桃花马上请长缨RAG/pagerank_results_64.xlsx\n",
      "第 65 集 PageRank 结果已保存到: D:/研究生论文/小论文2/代码/03网络图/03节点权重/桃花马上请长缨RAG/pagerank_results_65.xlsx\n",
      "第 66 集 PageRank 结果已保存到: D:/研究生论文/小论文2/代码/03网络图/03节点权重/桃花马上请长缨RAG/pagerank_results_66.xlsx\n",
      "第 67 集 PageRank 结果已保存到: D:/研究生论文/小论文2/代码/03网络图/03节点权重/桃花马上请长缨RAG/pagerank_results_67.xlsx\n",
      "第 68 集 PageRank 结果已保存到: D:/研究生论文/小论文2/代码/03网络图/03节点权重/桃花马上请长缨RAG/pagerank_results_68.xlsx\n",
      "第 69 集 PageRank 结果已保存到: D:/研究生论文/小论文2/代码/03网络图/03节点权重/桃花马上请长缨RAG/pagerank_results_69.xlsx\n",
      "第 70 集 PageRank 结果已保存到: D:/研究生论文/小论文2/代码/03网络图/03节点权重/桃花马上请长缨RAG/pagerank_results_70.xlsx\n",
      "第 71 集 PageRank 结果已保存到: D:/研究生论文/小论文2/代码/03网络图/03节点权重/桃花马上请长缨RAG/pagerank_results_71.xlsx\n",
      "第 72 集 PageRank 结果已保存到: D:/研究生论文/小论文2/代码/03网络图/03节点权重/桃花马上请长缨RAG/pagerank_results_72.xlsx\n",
      "第 73 集 PageRank 结果已保存到: D:/研究生论文/小论文2/代码/03网络图/03节点权重/桃花马上请长缨RAG/pagerank_results_73.xlsx\n",
      "第 74 集 PageRank 结果已保存到: D:/研究生论文/小论文2/代码/03网络图/03节点权重/桃花马上请长缨RAG/pagerank_results_74.xlsx\n",
      "第 75 集 PageRank 结果已保存到: D:/研究生论文/小论文2/代码/03网络图/03节点权重/桃花马上请长缨RAG/pagerank_results_75.xlsx\n",
      "第 76 集 PageRank 结果已保存到: D:/研究生论文/小论文2/代码/03网络图/03节点权重/桃花马上请长缨RAG/pagerank_results_76.xlsx\n",
      "第 77 集 PageRank 结果已保存到: D:/研究生论文/小论文2/代码/03网络图/03节点权重/桃花马上请长缨RAG/pagerank_results_77.xlsx\n",
      "第 78 集 PageRank 结果已保存到: D:/研究生论文/小论文2/代码/03网络图/03节点权重/桃花马上请长缨RAG/pagerank_results_78.xlsx\n",
      "第 79 集 PageRank 结果已保存到: D:/研究生论文/小论文2/代码/03网络图/03节点权重/桃花马上请长缨RAG/pagerank_results_79.xlsx\n",
      "第 80 集 PageRank 结果已保存到: D:/研究生论文/小论文2/代码/03网络图/03节点权重/桃花马上请长缨RAG/pagerank_results_80.xlsx\n",
      "第 81 集 PageRank 结果已保存到: D:/研究生论文/小论文2/代码/03网络图/03节点权重/桃花马上请长缨RAG/pagerank_results_81.xlsx\n",
      "第 82 集 PageRank 结果已保存到: D:/研究生论文/小论文2/代码/03网络图/03节点权重/桃花马上请长缨RAG/pagerank_results_82.xlsx\n",
      "第 83 集 PageRank 结果已保存到: D:/研究生论文/小论文2/代码/03网络图/03节点权重/桃花马上请长缨RAG/pagerank_results_83.xlsx\n",
      "第 84 集 PageRank 结果已保存到: D:/研究生论文/小论文2/代码/03网络图/03节点权重/桃花马上请长缨RAG/pagerank_results_84.xlsx\n",
      "第 85 集 PageRank 结果已保存到: D:/研究生论文/小论文2/代码/03网络图/03节点权重/桃花马上请长缨RAG/pagerank_results_85.xlsx\n",
      "第 86 集 PageRank 结果已保存到: D:/研究生论文/小论文2/代码/03网络图/03节点权重/桃花马上请长缨RAG/pagerank_results_86.xlsx\n",
      "第 87 集 PageRank 结果已保存到: D:/研究生论文/小论文2/代码/03网络图/03节点权重/桃花马上请长缨RAG/pagerank_results_87.xlsx\n",
      "第 88 集 PageRank 结果已保存到: D:/研究生论文/小论文2/代码/03网络图/03节点权重/桃花马上请长缨RAG/pagerank_results_88.xlsx\n",
      "第 89 集 PageRank 结果已保存到: D:/研究生论文/小论文2/代码/03网络图/03节点权重/桃花马上请长缨RAG/pagerank_results_89.xlsx\n",
      "第 90 集 PageRank 结果已保存到: D:/研究生论文/小论文2/代码/03网络图/03节点权重/桃花马上请长缨RAG/pagerank_results_90.xlsx\n",
      "第 91 集 PageRank 结果已保存到: D:/研究生论文/小论文2/代码/03网络图/03节点权重/桃花马上请长缨RAG/pagerank_results_91.xlsx\n"
     ]
    }
   ],
   "source": [
    "import pandas as pd\n",
    "import networkx as nx\n",
    "\n",
    "# 创建一个空的 DataFrame 用于存储 PageRank 结果\n",
    "pagerank_df = pd.DataFrame(columns=['Node Name', 'PageRank'])\n",
    "\n",
    "# 循环遍历每集\n",
    "for episode_number in range(1, 92):\n",
    "    # 读取边数据文件\n",
    "    edges_data_path = f\"D:/研究生论文/小论文2/代码/03网络图/02节点之间关系/桃花马上请长缨RAG/correlation_results_episode_{episode_number}.xlsx\"\n",
    "    edges_data = pd.read_excel(edges_data_path)\n",
    "    \n",
    "    # 构建图\n",
    "    G = nx.from_pandas_edgelist(edges_data, 'source', 'target', ['correlation'])\n",
    "    \n",
    "    # 计算 PageRank\n",
    "    pagerank = nx.pagerank(G)\n",
    "    \n",
    "    # 将 PageRank 结果添加到 DataFrame 中\n",
    "    episode_pagerank_df = pd.DataFrame(list(pagerank.items()), columns=['Node Name', 'PageRank'])\n",
    "    \n",
    "    # 将结果添加到总的 DataFrame 中\n",
    "    episode_pagerank_df['Episode'] = f'Episode {episode_number}'\n",
    "    pagerank_df = pd.concat([pagerank_df, episode_pagerank_df], ignore_index=True)\n",
    "\n",
    "    # 保存 DataFrame 到 Excel 文件\n",
    "    output_excel_path = f\"D:/研究生论文/小论文2/代码/03网络图/03节点权重/桃花马上请长缨RAG/pagerank_results_{episode_number}.xlsx\"\n",
    "    episode_pagerank_df.to_excel(output_excel_path, index=False)\n",
    "\n",
    "    print(f\"第 {episode_number} 集 PageRank 结果已保存到:\", output_excel_path)\n"
   ]
  },
  {
   "cell_type": "markdown",
   "metadata": {},
   "source": [
    "###合并为一个文件"
   ]
  },
  {
   "cell_type": "code",
   "execution_count": 2,
   "metadata": {},
   "outputs": [
    {
     "name": "stdout",
     "output_type": "stream",
     "text": [
      "已将所有边数据合并并保存到文件: D:/研究生论文/小论文2/代码/03网络图/03节点权重/桃花马上请长缨RAG/all_pagerank_results.xlsx\n"
     ]
    }
   ],
   "source": [
    "import pandas as pd\n",
    "\n",
    "# 创建一个空的DataFrame用于存储所有边数据\n",
    "all_edges = pd.DataFrame()\n",
    "\n",
    "# 循环遍历从第1集到第10集\n",
    "for episode_number in range(1, 92):\n",
    "    # 读取数据文件\n",
    "    edges_data_path = f\"D:/研究生论文/小论文2/代码/03网络图/03节点权重/桃花马上请长缨RAG/pagerank_results_{episode_number}.xlsx\"\n",
    "    edges_data = pd.read_excel(edges_data_path)\n",
    "    \n",
    "    # 添加一个新列\"Episode\"，表示所属的集数\n",
    "    edges_data['Episode'] = episode_number\n",
    "    \n",
    "    # 将当前集的边数据添加到all_edges中\n",
    "    all_edges = pd.concat([all_edges, edges_data])\n",
    "\n",
    "# 保存合并后的数据到新文件\n",
    "merged_edges_file_path = \"D:/研究生论文/小论文2/代码/03网络图/03节点权重/桃花马上请长缨RAG/all_pagerank_results.xlsx\"\n",
    "all_edges.to_excel(merged_edges_file_path, index=False)\n",
    "\n",
    "print(f\"已将所有边数据合并并保存到文件: {merged_edges_file_path}\")\n"
   ]
  },
  {
   "cell_type": "markdown",
   "metadata": {},
   "source": []
  }
 ],
 "metadata": {
  "kernelspec": {
   "display_name": "base",
   "language": "python",
   "name": "python3"
  },
  "language_info": {
   "codemirror_mode": {
    "name": "ipython",
    "version": 3
   },
   "file_extension": ".py",
   "mimetype": "text/x-python",
   "name": "python",
   "nbconvert_exporter": "python",
   "pygments_lexer": "ipython3",
   "version": "3.11.7"
  }
 },
 "nbformat": 4,
 "nbformat_minor": 2
}
