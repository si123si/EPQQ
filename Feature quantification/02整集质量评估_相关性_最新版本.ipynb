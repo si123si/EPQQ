{
 "cells": [
  {
   "cell_type": "markdown",
   "metadata": {},
   "source": [
    "###整集质量评估，考虑节点的权重"
   ]
  },
  {
   "cell_type": "markdown",
   "metadata": {},
   "source": [
    "###1.计算节点权重--构建网络图时已经计算"
   ]
  },
  {
   "cell_type": "markdown",
   "metadata": {},
   "source": [
    "###2.将每集节点权重放在一个文件中"
   ]
  },
  {
   "cell_type": "code",
   "execution_count": 1,
   "metadata": {},
   "outputs": [
    {
     "name": "stdout",
     "output_type": "stream",
     "text": [
      "已将所有边数据合并并保存到文件: D:/研究生论文/小论文2/代码/03网络图/03节点权重/桃花马上请长缨RAG/all_pagerank_results_updated.xlsx\n"
     ]
    }
   ],
   "source": [
    "import pandas as pd\n",
    "\n",
    "# 创建一个空的DataFrame用于存储所有边数据\n",
    "all_edges = pd.DataFrame()\n",
    "\n",
    "# 循环遍历从第1集到第10集\n",
    "for episode_number in range(1, 92):\n",
    "    # 读取数据文件\n",
    "    edges_data_path = f\"D:/研究生论文/小论文2/代码/03网络图/03节点权重/桃花马上请长缨RAG/pagerank_results_{episode_number}_updated.xlsx\"\n",
    "    edges_data = pd.read_excel(edges_data_path)\n",
    "    \n",
    "    # 添加一个新列\"Episode\"，表示所属的集数\n",
    "    edges_data['Episode'] = episode_number\n",
    "    \n",
    "    # 将当前集的边数据添加到all_edges中\n",
    "    all_edges = pd.concat([all_edges, edges_data])\n",
    "\n",
    "# 保存合并后的数据到新文件\n",
    "merged_edges_file_path = \"D:/研究生论文/小论文2/代码/03网络图/03节点权重/桃花马上请长缨RAG/all_pagerank_results_updated.xlsx\"\n",
    "all_edges.to_excel(merged_edges_file_path, index=False)\n",
    "\n",
    "print(f\"已将所有边数据合并并保存到文件: {merged_edges_file_path}\")\n"
   ]
  },
  {
   "cell_type": "markdown",
   "metadata": {},
   "source": [
    "###3.将每集节点能量放在一个文件中"
   ]
  },
  {
   "cell_type": "code",
   "execution_count": 2,
   "metadata": {},
   "outputs": [
    {
     "name": "stdout",
     "output_type": "stream",
     "text": [
      "已将所有边数据合并并保存到文件: D:/研究生论文/小论文2/代码/04质量评估_Ising模型/01质量评估/01节点质量/桃花马上请长缨RAG/all_node_energy.xlsx\n"
     ]
    }
   ],
   "source": [
    "import pandas as pd\n",
    "\n",
    "# 创建一个空的DataFrame用于存储所有边数据\n",
    "all_edges = pd.DataFrame()\n",
    "\n",
    "# 循环遍历从第1集到第10集\n",
    "for episode_number in range(1, 92):\n",
    "    # 读取边数据文件\n",
    "    edges_data_path = f\"D:/研究生论文/小论文2/代码/04质量评估_Ising模型/01质量评估/01节点质量/桃花马上请长缨RAG/node_energy_episode_{episode_number}.xlsx\"\n",
    "    edges_data = pd.read_excel(edges_data_path)\n",
    "    \n",
    "    # 添加一个新列\"Episode\"，表示所属的集数\n",
    "    edges_data['Episode'] = episode_number\n",
    "    \n",
    "    # 将当前集的边数据添加到all_edges中\n",
    "    all_edges = pd.concat([all_edges, edges_data])\n",
    "\n",
    "# 保存合并后的数据到新文件\n",
    "merged_edges_file_path = \"D:/研究生论文/小论文2/代码/04质量评估_Ising模型/01质量评估/01节点质量/桃花马上请长缨RAG/all_node_energy.xlsx\"\n",
    "all_edges.to_excel(merged_edges_file_path, index=False)\n",
    "\n",
    "print(f\"已将所有边数据合并并保存到文件: {merged_edges_file_path}\")\n"
   ]
  },
  {
   "cell_type": "markdown",
   "metadata": {},
   "source": [
    "###4.将节点能量和权重合并,计算每集的总能量（质量）"
   ]
  },
  {
   "cell_type": "code",
   "execution_count": 3,
   "metadata": {},
   "outputs": [
    {
     "name": "stdout",
     "output_type": "stream",
     "text": [
      "每集的能量总值已保存到: ./02整集质量/桃花马上请长缨RAG_total_energy.xlsx\n"
     ]
    }
   ],
   "source": [
    "import pandas as pd\n",
    "import os\n",
    "\n",
    "os.chdir('D:/研究生论文/小论文2/代码/04质量评估_Ising模型/01质量评估')\n",
    "\n",
    "# 读取 all_pagerank_results.xlsx 和 all_node_energy.xlsx 文件\n",
    "pagerank_df = pd.read_excel(\"D:/研究生论文/小论文2/代码/03网络图/03节点权重/桃花马上请长缨RAG/all_pagerank_results.xlsx\")\n",
    "node_energy_df = pd.read_excel(\"./01节点质量/桃花马上请长缨RAG/all_node_energy.xlsx\")\n",
    "\n",
    "# 合并两个 DataFrame\n",
    "merged_df = pd.merge(pagerank_df, node_energy_df, on=['Node Name', 'Episode'], how='outer')\n",
    "\n",
    "# 保存合并后的结果到 Excel 文件\n",
    "#merged_excel_path = \"./00和01合并/百妖谱_merged_results.xlsx\"\n",
    "#merged_df.to_excel(merged_excel_path, index=False)\n",
    "\n",
    "# 计算每集的能量总值\n",
    "merged_df['Total Energy'] = merged_df['PageRank'] * merged_df['Node Energy']\n",
    "\n",
    "# 根据 Episode 列进行分组，并求每组的能量总和\n",
    "total_energy_df = merged_df.groupby('Episode')['Total Energy'].sum().reset_index()\n",
    "\n",
    "# 保存结果到新的 Excel 文件\n",
    "output_excel_path = \"./02整集质量/桃花马上请长缨RAG_total_energy.xlsx\"\n",
    "total_energy_df.to_excel(output_excel_path, index=False)\n",
    "\n",
    "print(\"每集的能量总值已保存到:\", output_excel_path)\n"
   ]
  }
 ],
 "metadata": {
  "kernelspec": {
   "display_name": "base",
   "language": "python",
   "name": "python3"
  },
  "language_info": {
   "codemirror_mode": {
    "name": "ipython",
    "version": 3
   },
   "file_extension": ".py",
   "mimetype": "text/x-python",
   "name": "python",
   "nbconvert_exporter": "python",
   "pygments_lexer": "ipython3",
   "version": "3.11.7"
  }
 },
 "nbformat": 4,
 "nbformat_minor": 2
}
