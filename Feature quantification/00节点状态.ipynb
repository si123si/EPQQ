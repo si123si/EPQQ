{
 "cells": [
  {
   "cell_type": "markdown",
   "metadata": {},
   "source": [
    "###1.每个特征对应情感值的计算\n"
   ]
  },
  {
   "cell_type": "code",
   "execution_count": 1,
   "metadata": {},
   "outputs": [
    {
     "name": "stdout",
     "output_type": "stream",
     "text": [
      "    Merged_Features  Merged_sentiment_values  Episode\n",
      "0             剧情合理性                 0.426931        1\n",
      "1            动作场面呈现                 0.685000        1\n",
      "2              叙事节奏                 0.285429        1\n",
      "3              台词质量                 0.218966        1\n",
      "4              文化深度                 0.440886        1\n",
      "..              ...                      ...      ...\n",
      "557            台词质量                 0.304167       91\n",
      "558            文化深度                 0.695631       91\n",
      "559          服化道匹配度                 0.325455       91\n",
      "560            角色表现                 0.759309       91\n",
      "561           音效与配乐                 0.610000       91\n",
      "\n",
      "[562 rows x 3 columns]\n"
     ]
    }
   ],
   "source": [
    "import numpy as np\n",
    "import pandas as pd\n",
    "\n",
    "# 创建一个空的 DataFrame 用于存储结果\n",
    "final_result_df = pd.DataFrame()\n",
    "\n",
    "# 遍历文件\n",
    "for episode in range(1, 92):  # 修改遍历的集数\n",
    "    # 读取数据\n",
    "    #file_path = f'D:/研究生论文/小论文2/代码/02质量特征识别/02质量特征匹配结果/无限世界4.8_每集/mapped_info_episode_{episode}.xlsx'\n",
    "    file_path = f'D:/研究生论文/小论文2/代码/02RAG_质量特征匹配阶段/RAG代码/01输出数据/桃花马上请长缨_每集/mapped_info_episode_{episode}.xlsx'\n",
    "    data = pd.read_excel(file_path)\n",
    "    \n",
    "    # 将 Feature 列和对应的 Value 列合并\n",
    "    features = np.concatenate([data['Feature_1'], data['Feature_2'], data['Feature_3']])\n",
    "    values = np.concatenate([data['Value_1'], data['Value_2'], data['Value_3']])\n",
    "    \n",
    "    # 将 values 转换为数值类型，非数值数据将被转换为 NaN\n",
    "    values = pd.to_numeric(values, errors='coerce')\n",
    "    \n",
    "    # 创建新的 DataFrame\n",
    "    merged_data = pd.DataFrame({'Merged_Features': features, 'Merged_sentiment_values': values})\n",
    "    \n",
    "    # 按 Merged_Features 分组计算均值，忽略 NaN\n",
    "    result_df = merged_data.groupby('Merged_Features', dropna=True)['Merged_sentiment_values'].mean().reset_index()\n",
    "    \n",
    "    # 添加一个列表示这是第几集的数据\n",
    "    result_df['Episode'] = episode\n",
    "    \n",
    "    # 将结果添加到总体结果 DataFrame\n",
    "    final_result_df = pd.concat([final_result_df, result_df], ignore_index=True)\n",
    "\n",
    "# 打印结果\n",
    "print(final_result_df)\n",
    "\n",
    "# 保存结果到 Excel 文件\n",
    "output_file_path = 'D:/研究生论文/小论文2/代码/04质量评估_Ising模型/00节点状态/桃花马上请长缨RAG/1.情感值.xlsx'\n",
    "final_result_df.to_excel(output_file_path, index=False)\n"
   ]
  },
  {
   "cell_type": "markdown",
   "metadata": {},
   "source": [
    "###2.每个质量特征对应的评论数量"
   ]
  },
  {
   "cell_type": "code",
   "execution_count": 2,
   "metadata": {},
   "outputs": [
    {
     "name": "stdout",
     "output_type": "stream",
     "text": [
      "    Merged_Features  Merged_comment_values  Episode\n",
      "0             剧情合理性                    189        1\n",
      "1            动作场面呈现                     12        1\n",
      "2              叙事节奏                     70        1\n",
      "3              台词质量                     29        1\n",
      "4              文化深度                     79        1\n",
      "..              ...                    ...      ...\n",
      "557            台词质量                     24       91\n",
      "558            文化深度                    103       91\n",
      "559          服化道匹配度                     33       91\n",
      "560            角色表现                    275       91\n",
      "561           音效与配乐                     13       91\n",
      "\n",
      "[562 rows x 3 columns]\n"
     ]
    }
   ],
   "source": [
    "import numpy as np\n",
    "import pandas as pd\n",
    "\n",
    "# 创建一个空的 DataFrame 用于存储结果\n",
    "final_result_df = pd.DataFrame()\n",
    "\n",
    "# 遍历文件\n",
    "for episode in range(1,92):   ##修改遍历的集数\n",
    "    #file_path = f'D:/研究生论文/小论文2/代码/02质量特征识别/02质量特征匹配结果/无限世界4.8_每集/mapped_info_episode_{episode}.xlsx'\n",
    "    file_path = f'D:/研究生论文/小论文2/代码/02RAG_质量特征匹配阶段/RAG代码/01输出数据/桃花马上请长缨_每集/mapped_info_episode_{episode}.xlsx'\n",
    "    \n",
    "    # 读取数据\n",
    "    data = pd.read_excel(file_path)\n",
    "    \n",
    "    # 将 Feature 列和对应的 Value 列合并\n",
    "    features = np.concatenate([data['Feature_1'], data['Feature_2'], data['Feature_3']])\n",
    "\n",
    "\n",
    "    # 创建新的 DataFrame\n",
    "    merged_data = pd.DataFrame({'Merged_Features': features, 'Merged_comment_values': 1})\n",
    "\n",
    "    # 按 Merged_Features 分组计算均值\n",
    "    result_df = merged_data.groupby('Merged_Features')['Merged_comment_values'].sum().reset_index()\n",
    "    \n",
    "    # 添加一个列表示这是第几集的数据\n",
    "    result_df['Episode'] = episode\n",
    "    \n",
    "    # 将结果添加到总体结果 DataFrame\n",
    "    final_result_df = pd.concat([final_result_df, result_df], ignore_index=True)\n",
    "\n",
    "# 打印结果\n",
    "print(final_result_df)\n",
    "\n",
    "# 保存结果到 Excel 文件\n",
    "final_result_df.to_excel('D:/研究生论文/小论文2/代码/04质量评估_Ising模型/00节点状态/桃花马上请长缨RAG/2.评论数.xlsx', index=False)\n"
   ]
  },
  {
   "cell_type": "markdown",
   "metadata": {},
   "source": [
    "###3.每个质量特征对应的点赞数"
   ]
  },
  {
   "cell_type": "code",
   "execution_count": 3,
   "metadata": {},
   "outputs": [
    {
     "name": "stdout",
     "output_type": "stream",
     "text": [
      "    Merged_Features  Merged_like_values  Episode\n",
      "0             剧情合理性                2338        1\n",
      "1            动作场面呈现                   5        1\n",
      "2              叙事节奏                1060        1\n",
      "3              台词质量                 158        1\n",
      "4              文化深度                 110        1\n",
      "..              ...                 ...      ...\n",
      "557            台词质量                  21       91\n",
      "558            文化深度                 547       91\n",
      "559          服化道匹配度                  36       91\n",
      "560            角色表现                1541       91\n",
      "561           音效与配乐                   2       91\n",
      "\n",
      "[562 rows x 3 columns]\n"
     ]
    }
   ],
   "source": [
    "import numpy as np\n",
    "import pandas as pd\n",
    "\n",
    "# 创建一个空的 DataFrame 用于存储结果\n",
    "final_result_df = pd.DataFrame()\n",
    "\n",
    "# 遍历文件\n",
    "for episode in range(1,92):   ##修改遍历的集数\n",
    "    #file_path = f'D:/研究生论文/小论文2/代码/02质量特征识别/02质量特征匹配结果/无限世界4.8_每集/mapped_info_episode_{episode}.xlsx'\n",
    "    file_path = f'D:/研究生论文/小论文2/代码/02RAG_质量特征匹配阶段/RAG代码/01输出数据/桃花马上请长缨_每集/mapped_info_episode_{episode}.xlsx'\n",
    "    # 读取数据\n",
    "    data = pd.read_excel(file_path)\n",
    "    \n",
    "   # 将 Feature 列和对应的 Value 列合并\n",
    "    features = np.concatenate([data['Feature_1'], data['Feature_2'], data['Feature_3']])\n",
    "    likes = np.concatenate([data['点赞数'], data['点赞数'], data['点赞数']])\n",
    "\n",
    "    # 创建新的 DataFrame\n",
    "    merged_data = pd.DataFrame({'Merged_Features': features, 'Merged_like_values': likes})\n",
    "\n",
    "    # 按 Merged_Features 分组计算均值\n",
    "    result_df = merged_data.groupby('Merged_Features')['Merged_like_values'].sum().reset_index()\n",
    "    \n",
    "    # 添加一个列表示这是第几集的数据\n",
    "    result_df['Episode'] = episode\n",
    "    \n",
    "    # 将结果添加到总体结果 DataFrame\n",
    "    final_result_df = pd.concat([final_result_df, result_df], ignore_index=True)\n",
    "\n",
    "# 打印结果\n",
    "print(final_result_df)\n",
    "\n",
    "# 保存结果到 Excel 文件\n",
    "final_result_df.to_excel('D:/研究生论文/小论文2/代码/04质量评估_Ising模型/00节点状态/桃花马上请长缨RAG/3.点赞数.xlsx', index=False)\n"
   ]
  },
  {
   "cell_type": "markdown",
   "metadata": {},
   "source": [
    "###4.每个质量特征对应的回复数"
   ]
  },
  {
   "cell_type": "code",
   "execution_count": 4,
   "metadata": {},
   "outputs": [
    {
     "name": "stdout",
     "output_type": "stream",
     "text": [
      "    Merged_Features  Merged_reply_values  Episode\n",
      "0             剧情合理性                  113        1\n",
      "1            动作场面呈现                    0        1\n",
      "2              叙事节奏                   65        1\n",
      "3              台词质量                   20        1\n",
      "4              文化深度                   12        1\n",
      "..              ...                  ...      ...\n",
      "557            台词质量                    1       91\n",
      "558            文化深度                   11       91\n",
      "559          服化道匹配度                    1       91\n",
      "560            角色表现                   53       91\n",
      "561           音效与配乐                    2       91\n",
      "\n",
      "[562 rows x 3 columns]\n"
     ]
    }
   ],
   "source": [
    "import numpy as np\n",
    "import pandas as pd\n",
    "\n",
    "# 创建一个空的 DataFrame 用于存储结果\n",
    "final_result_df = pd.DataFrame()\n",
    "\n",
    "# 遍历文件\n",
    "for episode in range(1,92):   ##修改遍历的集数\n",
    "    #file_path = f'D:/研究生论文/小论文2/代码/02质量特征识别/02质量特征匹配结果/无限世界4.8_每集/mapped_info_episode_{episode}.xlsx'\n",
    "    file_path = f'D:/研究生论文/小论文2/代码/02RAG_质量特征匹配阶段/RAG代码/01输出数据/桃花马上请长缨_每集/mapped_info_episode_{episode}.xlsx'\n",
    "    # 读取数据\n",
    "    data = pd.read_excel(file_path)\n",
    "    \n",
    "   ## 将 Feature 列和对应的 Value 列合并\n",
    "    features = np.concatenate([data['Feature_1'], data['Feature_2'], data['Feature_3']])\n",
    "    reply = np.concatenate([data['回复数'], data['回复数'], data['回复数']])\n",
    "\n",
    "    # 创建新的 DataFrame\n",
    "    merged_data = pd.DataFrame({'Merged_Features': features, 'Merged_reply_values': reply})\n",
    "\n",
    "    # 按 Merged_Features 分组计算均值\n",
    "    result_df = merged_data.groupby('Merged_Features')['Merged_reply_values'].sum().reset_index()\n",
    "    \n",
    "    # 添加一个列表示这是第几集的数据\n",
    "    result_df['Episode'] = episode\n",
    "    \n",
    "    # 将结果添加到总体结果 DataFrame\n",
    "    final_result_df = pd.concat([final_result_df, result_df], ignore_index=True)\n",
    "\n",
    "# 打印结果\n",
    "print(final_result_df)\n",
    "\n",
    "# 保存结果到 Excel 文件\n",
    "final_result_df.to_excel('D:/研究生论文/小论文2/代码/04质量评估_Ising模型/00节点状态/桃花马上请长缨RAG/4.回复数.xlsx', index=False)\n"
   ]
  },
  {
   "cell_type": "markdown",
   "metadata": {},
   "source": [
    "###5.将上述4个数据合并在一个文件中"
   ]
  },
  {
   "cell_type": "code",
   "execution_count": 5,
   "metadata": {},
   "outputs": [
    {
     "name": "stdout",
     "output_type": "stream",
     "text": [
      "    Merged_Features  Merged_sentiment_values  Episode  Merged_comment_values  \\\n",
      "0             剧情合理性                 0.426931        1                    189   \n",
      "1            动作场面呈现                 0.685000        1                     12   \n",
      "2              叙事节奏                 0.285429        1                     70   \n",
      "3              台词质量                 0.218966        1                     29   \n",
      "4              文化深度                 0.440886        1                     79   \n",
      "..              ...                      ...      ...                    ...   \n",
      "557            台词质量                 0.304167       91                     24   \n",
      "558            文化深度                 0.695631       91                    103   \n",
      "559          服化道匹配度                 0.325455       91                     33   \n",
      "560            角色表现                 0.759309       91                    275   \n",
      "561           音效与配乐                 0.610000       91                     13   \n",
      "\n",
      "     Merged_like_values  Merged_reply_values  \n",
      "0                  2338                  113  \n",
      "1                     5                    0  \n",
      "2                  1060                   65  \n",
      "3                   158                   20  \n",
      "4                   110                   12  \n",
      "..                  ...                  ...  \n",
      "557                  21                    1  \n",
      "558                 547                   11  \n",
      "559                  36                    1  \n",
      "560                1541                   53  \n",
      "561                   2                    2  \n",
      "\n",
      "[562 rows x 6 columns]\n"
     ]
    }
   ],
   "source": [
    "import pandas as pd\n",
    "import os\n",
    "\n",
    "os.chdir('D:/研究生论文/小论文2/代码/04质量评估_Ising模型/00节点状态/桃花马上请长缨RAG')\n",
    "\n",
    "# 读取四个文件\n",
    "sentiments_df = pd.read_excel('./1.情感值.xlsx')\n",
    "comments_df = pd.read_excel('./2.评论数.xlsx')\n",
    "likes_df = pd.read_excel('./3.点赞数.xlsx')\n",
    "replies_df = pd.read_excel('./4.回复数.xlsx')\n",
    "\n",
    "\n",
    "# 合并数据框\n",
    "merged_df = pd.merge(sentiments_df, comments_df, on=['Merged_Features', 'Episode'], how='outer')\n",
    "merged_df = pd.merge(merged_df, likes_df, on=['Merged_Features', 'Episode'], how='outer')\n",
    "merged_df = pd.merge(merged_df, replies_df, on=['Merged_Features', 'Episode'], how='outer')\n",
    "\n",
    "\n",
    "# 保存合并后的结果\n",
    "merged_df.to_excel('./5.合并结果.xlsx', index=False)\n",
    "\n",
    "# 打印结果\n",
    "print(merged_df)\n"
   ]
  },
  {
   "cell_type": "markdown",
   "metadata": {},
   "source": [
    "###6.根据情感值，判断节点的状态（极性）"
   ]
  },
  {
   "cell_type": "code",
   "execution_count": 6,
   "metadata": {},
   "outputs": [
    {
     "name": "stdout",
     "output_type": "stream",
     "text": [
      "结果已保存到文件: ./6.output_with_node_state.xlsx\n",
      "    Merged_Features  Merged_sentiment_values  Episode  Merged_comment_values  \\\n",
      "0             剧情合理性                 0.426931        1                    189   \n",
      "1            动作场面呈现                 0.685000        1                     12   \n",
      "2              叙事节奏                 0.285429        1                     70   \n",
      "3              台词质量                 0.218966        1                     29   \n",
      "4              文化深度                 0.440886        1                     79   \n",
      "..              ...                      ...      ...                    ...   \n",
      "557            台词质量                 0.304167       91                     24   \n",
      "558            文化深度                 0.695631       91                    103   \n",
      "559          服化道匹配度                 0.325455       91                     33   \n",
      "560            角色表现                 0.759309       91                    275   \n",
      "561           音效与配乐                 0.610000       91                     13   \n",
      "\n",
      "     Merged_like_values  Merged_reply_values  Node state  \n",
      "0                  2338                  113           1  \n",
      "1                     5                    0           1  \n",
      "2                  1060                   65           1  \n",
      "3                   158                   20           1  \n",
      "4                   110                   12           1  \n",
      "..                  ...                  ...         ...  \n",
      "557                  21                    1           1  \n",
      "558                 547                   11           1  \n",
      "559                  36                    1           1  \n",
      "560                1541                   53           1  \n",
      "561                   2                    2           1  \n",
      "\n",
      "[562 rows x 7 columns]\n"
     ]
    }
   ],
   "source": [
    "import pandas as pd\n",
    "import os\n",
    "\n",
    "os.chdir('D:/研究生论文/小论文2/代码/04质量评估_Ising模型/00节点状态/桃花马上请长缨RAG')\n",
    "\n",
    "# 读取数据\n",
    "data = pd.read_excel(\"./5.合并结果.xlsx\")\n",
    "\n",
    "# 根据条件添加新列\n",
    "data['Node state'] = data['Merged_sentiment_values'].apply(lambda x: 1 if x > 0 else (-1 if x < 0 else 0))\n",
    "\n",
    "# 保存结果到新文件\n",
    "output_file_path = \"./6.output_with_node_state.xlsx\"\n",
    "data.to_excel(output_file_path, index=False)\n",
    "\n",
    "print(f\"结果已保存到文件: {output_file_path}\")\n",
    "# 输出结果\n",
    "print(data)\n"
   ]
  },
  {
   "cell_type": "markdown",
   "metadata": {},
   "source": [
    "###7.根据Episode拆分"
   ]
  },
  {
   "cell_type": "code",
   "execution_count": 7,
   "metadata": {},
   "outputs": [],
   "source": [
    "import pandas as pd\n",
    "import os\n",
    "os.chdir('D:/研究生论文/小论文2/代码/04质量评估_Ising模型/00节点状态/桃花马上请长缨RAG')\n",
    "# 步骤1: 读取Excel文件\n",
    "file_path = './6.output_with_node_state.xlsx'\n",
    "df = pd.read_excel(file_path)\n",
    "\n",
    "# 步骤2: 按Episode列分组\n",
    "grouped = df.groupby('Episode')\n",
    "\n",
    "# 步骤3: 为每个分组保存一个新文件\n",
    "for episode, group in grouped:\n",
    "    # 为每个分组创建一个新的文件名，如 \"node_variable_episode_1.xlsx\"\n",
    "    new_file_name = f'./node_state_episode_{episode}.xlsx'\n",
    "    # 保存分组到新文件\n",
    "    group.to_excel(new_file_name, index=False)"
   ]
  }
 ],
 "metadata": {
  "kernelspec": {
   "display_name": "base",
   "language": "python",
   "name": "python3"
  },
  "language_info": {
   "codemirror_mode": {
    "name": "ipython",
    "version": 3
   },
   "file_extension": ".py",
   "mimetype": "text/x-python",
   "name": "python",
   "nbconvert_exporter": "python",
   "pygments_lexer": "ipython3",
   "version": "3.11.7"
  }
 },
 "nbformat": 4,
 "nbformat_minor": 2
}
