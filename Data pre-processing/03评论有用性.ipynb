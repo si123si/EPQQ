{
 "cells": [
  {
   "cell_type": "markdown",
   "metadata": {},
   "source": [
    "###对预处理后的文件进行赋权，衡量评论内容的质量【在线评论有用性识别】"
   ]
  },
  {
   "cell_type": "code",
   "execution_count": 18,
   "metadata": {},
   "outputs": [],
   "source": [
    "import pandas as pd\n",
    "file_path = \"D:/研究生论文/小论文2/代码/01数据预处理/02输出结果-预处理/择天记第二季/4.有效评论项.xlsx\"\n",
    "df = pd.read_excel(file_path)\n",
    "\n",
    "# 假设df是一个pandas DataFrame，其中包含了用户等级、是否VIP、点赞数和回复数\n",
    "# 我们假设Excel文件中的列名是中文，这里进行相应的替换\n",
    "# 添加是否VIP的布尔值权重，假设VIP为'是'，非VIP为'否'\n",
    "df['vip_weight'] = df['VIP'].apply(lambda x: 1 if x == '是' else 0)\n",
    "\n",
    "# 标准化用户等级、点赞数和回复数\n",
    "df['user_level_norm'] = (df['等级'] - df['等级'].min()) / (df['等级'].max() - df['等级'].min())\n",
    "df['likes_norm'] = (df['点赞数'] - df['点赞数'].min()) / (df['点赞数'].max() - df['点赞数'].min())\n",
    "df['replies_norm'] = (df['回复数'] - df['回复数'].min()) / (df['回复数'].max() - df['回复数'].min())\n",
    "\n",
    "# 计算权威性得分（这里假设VIP的权重和用户等级同等重要）\n",
    "#df['authority_score'] = (df['user_level_norm'] + df['vip_weight'] * 2) / 3\n",
    "df['authority_score'] = (df['user_level_norm'] + df['vip_weight'] ) / 2\n",
    "\n",
    "# 计算认同度得分（这里假设点赞数和回复数同等重要）\n",
    "df['approval_score'] = (df['likes_norm'] + df['replies_norm']* 2) / 3\n",
    "\n",
    "\n",
    "# 定义权重\n",
    "authority_weight = 0.4\n",
    "approval_weight = 0.6\n",
    "\n",
    "\n",
    "# 计算综合指标\n",
    "df['useful_index'] = (df['authority_score'] * authority_weight) + (df['approval_score'] * approval_weight)\n",
    "\n",
    "# 输出新的DataFrame\n",
    "df.to_excel(\"D:/研究生论文/小论文2/代码/01数据预处理/02输出结果-预处理/择天记第二季/5.赋权后文档.xlsx\", index=False)  # 用户需要将此路径替换为希望保存的新文件的实际路径\n"
   ]
  },
  {
   "cell_type": "markdown",
   "metadata": {},
   "source": [
    "##数据分布"
   ]
  },
  {
   "cell_type": "code",
   "execution_count": 19,
   "metadata": {},
   "outputs": [
    {
     "name": "stdout",
     "output_type": "stream",
     "text": [
      "count    1506.000000\n",
      "mean        0.266565\n",
      "std         0.118397\n",
      "min         0.000000\n",
      "25%         0.167622\n",
      "50%         0.200717\n",
      "75%         0.400000\n",
      "max         0.880702\n",
      "Name: useful_index, dtype: float64\n"
     ]
    }
   ],
   "source": [
    "\n",
    "stats = df['useful_index'].describe()\n",
    "print(stats)\n"
   ]
  },
  {
   "cell_type": "markdown",
   "metadata": {},
   "source": [
    "##根据数据分布筛选在线评论-四分数"
   ]
  },
  {
   "cell_type": "code",
   "execution_count": 20,
   "metadata": {},
   "outputs": [
    {
     "name": "stdout",
     "output_type": "stream",
     "text": [
      "      index_content        id       rpid           用户名  性别  等级 VIP  \\\n",
      "0                 2  31327846  202757514          弦上月川   女   6   否   \n",
      "1                 3  20644906  202845537       快乐的一个沙雕   男   5   否   \n",
      "2                 4  62856474  202937187       樱花吃了那女孩   女   5   否   \n",
      "3                 8  16571812  203365689          陌小小路   男   5   是   \n",
      "4                11   2047993  203912655      一块锅包You-  保密   6   否   \n",
      "...             ...       ...        ...           ...  ..  ..  ..   \n",
      "1501           2246  15399877  184795592         厨房掌勺人   男   6   否   \n",
      "1502           2248  23548786  184730263          鸿蒙道人   男   6   是   \n",
      "1503           2250   6104649  183988333        龙傲天的表弟   男   6   是   \n",
      "1504           2252  19051852  186035698  Already-sold  保密   6   是   \n",
      "1505           2253   4065630  241917754           M陌安   男   5   是   \n",
      "\n",
      "                       日期  点赞数  回复数                              内容  Episode  \\\n",
      "0     2017-02-12 22:51:10    0    0                      十b币全部还是一集？        1   \n",
      "1     2017-02-13 01:14:58    0    0      私信我免费借号先来先借就3个多久遭不住(〜￣△￣)〜        1   \n",
      "2     2017-02-13 10:27:19    0    0                   淡定笑）想想爱奇艺的套路吧        1   \n",
      "3     2017-02-14 00:11:01    0    0                             大会员        1   \n",
      "4     2017-02-14 23:32:42    0    0            有要看的嘛，最近直播在看，房间51382        1   \n",
      "...                   ...  ...  ...                             ...      ...   \n",
      "1501  2017-01-13 13:17:02    4    0         你們要知道，這是騰訊的動漫騰訊憑什麼免費給你看       12   \n",
      "1502  2017-01-13 09:58:24    0    0                 还我的小说啊！[小电视_哭泣]       12   \n",
      "1503  2017-01-11 14:15:26    0    0                   完结  撒花[小电视_赞]       12   \n",
      "1504  2017-01-15 23:48:06    0    0  我我怀疑自己在看说书，还真是一如既往的ptt[小电视_发愁]       12   \n",
      "1505  2017-04-22 15:03:30    1    0                       大会员什么都不知道       12   \n",
      "\n",
      "      vip_weight  user_level_norm  likes_norm  replies_norm  authority_score  \\\n",
      "0              0         1.000000    0.000000           0.0         0.500000   \n",
      "1              0         0.833333    0.000000           0.0         0.416667   \n",
      "2              0         0.833333    0.000000           0.0         0.416667   \n",
      "3              1         0.833333    0.000000           0.0         0.916667   \n",
      "4              0         1.000000    0.000000           0.0         0.500000   \n",
      "...          ...              ...         ...           ...              ...   \n",
      "1501           0         1.000000    0.004779           0.0         0.500000   \n",
      "1502           1         1.000000    0.000000           0.0         1.000000   \n",
      "1503           1         1.000000    0.000000           0.0         1.000000   \n",
      "1504           1         1.000000    0.000000           0.0         1.000000   \n",
      "1505           1         0.833333    0.001195           0.0         0.916667   \n",
      "\n",
      "      approval_score  useful_index  \n",
      "0           0.000000      0.200000  \n",
      "1           0.000000      0.166667  \n",
      "2           0.000000      0.166667  \n",
      "3           0.000000      0.366667  \n",
      "4           0.000000      0.200000  \n",
      "...              ...           ...  \n",
      "1501        0.001593      0.200956  \n",
      "1502        0.000000      0.400000  \n",
      "1503        0.000000      0.400000  \n",
      "1504        0.000000      0.400000  \n",
      "1505        0.000398      0.366906  \n",
      "\n",
      "[1506 rows x 19 columns]\n"
     ]
    }
   ],
   "source": [
    "import pandas as pd\n",
    "\n",
    "# 根据 useful_index 列的数值进行筛选\n",
    "filtered_df = df[df['useful_index'] >= 0]   #75%处的值\n",
    "\n",
    "# 输出筛选后的结果\n",
    "print(filtered_df)\n",
    "\n",
    "# 如果需要保存到新的 Excel 文件\n",
    "filtered_df.to_excel(\"D:/研究生论文/小论文2/代码/01数据预处理/02输出结果-预处理/择天记第二季/6.筛选后文档.xlsx\", index=False)\n"
   ]
  },
  {
   "cell_type": "markdown",
   "metadata": {},
   "source": [
    "###体验品---微短剧"
   ]
  },
  {
   "cell_type": "code",
   "execution_count": 2,
   "metadata": {},
   "outputs": [],
   "source": [
    "import pandas as pd\n",
    "file_path = \"D:/研究生论文/小论文2/代码/01数据预处理/02输出结果-预处理/桃花马上请长缨/4.有效评论项.xlsx\"\n",
    "df = pd.read_excel(file_path)\n",
    "\n",
    "# 假设df是一个pandas DataFrame，其中包含了用户等级、是否VIP、点赞数和回复数\n",
    "# 我们假设Excel文件中的列名是中文，这里进行相应的替换\n",
    "# 添加是否VIP的布尔值权重，假设VIP为'是'，非VIP为'否'\n",
    "#df['vip_weight'] = df['VIP'].apply(lambda x: 1 if x == '是' else 0)\n",
    "\n",
    "# 标准化用户等级、点赞数和回复数\n",
    "#df['user_level_norm'] = (df['等级'] - df['等级'].min()) / (df['等级'].max() - df['等级'].min())\n",
    "df['likes_norm'] = (df['点赞数'] - df['点赞数'].min()) / (df['点赞数'].max() - df['点赞数'].min())\n",
    "df['replies_norm'] = (df['回复数'] - df['回复数'].min()) / (df['回复数'].max() - df['回复数'].min())\n",
    "\n",
    "# 计算权威性得分（这里假设VIP的权重和用户等级同等重要）\n",
    "#df['authority_score'] = (df['user_level_norm'] + df['vip_weight'] * 2) / 3\n",
    "#df['authority_score'] = (df['user_level_norm'] + df['vip_weight'] ) / 2\n",
    "\n",
    "# 计算认同度得分（这里假设点赞数和回复数同等重要）\n",
    "df['approval_score'] = (df['likes_norm'] + df['replies_norm']* 2) / 3\n",
    "\n",
    "\n",
    "# 定义权重\n",
    "#authority_weight = 0\n",
    "#approval_weight = 1\n",
    "\n",
    "\n",
    "# 计算综合指标\n",
    "#df['useful_index'] = (df['authority_score'] * authority_weight) + (df['approval_score'] * approval_weight)\n",
    "df['useful_index'] = df['approval_score']\n",
    "\n",
    "# 输出新的DataFrame\n",
    "df.to_excel(\"D:/研究生论文/小论文2/代码/01数据预处理/02输出结果-预处理/桃花马上请长缨/5.赋权后文档.xlsx\", index=False)  # 用户需要将此路径替换为希望保存的新文件的实际路径\n"
   ]
  },
  {
   "cell_type": "code",
   "execution_count": 3,
   "metadata": {},
   "outputs": [
    {
     "name": "stdout",
     "output_type": "stream",
     "text": [
      "count    19722.000000\n",
      "mean         0.003411\n",
      "std          0.019746\n",
      "min          0.000000\n",
      "25%          0.000000\n",
      "50%          0.000000\n",
      "75%          0.000157\n",
      "max          0.795556\n",
      "Name: useful_index, dtype: float64\n"
     ]
    }
   ],
   "source": [
    "\n",
    "stats = df['useful_index'].describe()\n",
    "print(stats)\n"
   ]
  },
  {
   "cell_type": "code",
   "execution_count": 4,
   "metadata": {},
   "outputs": [
    {
     "name": "stdout",
     "output_type": "stream",
     "text": [
      "       index_content                   id                               内容  \\\n",
      "0                  1  7477591610222609408                  好看的一部剧[赞][赞][赞]   \n",
      "1                  6  7412600124662301696                         看过小说，挺好看   \n",
      "2                  7  7412591163662091264                            女主好漂亮   \n",
      "3                  9  7412576393773204480                           最美宋惜惜！   \n",
      "4                 12  7412546755910747136             选到个好剧不容易[捂脸][捂脸][捂脸]   \n",
      "...              ...                  ...                              ...   \n",
      "19717          28842  7418633045433598976  醒酒汤配方给一个呗，两小勺就啥事没有了[大笑][大笑][大笑]   \n",
      "19718          28843  7418625869134791680                     这是交杯酒，不是合卺酒。   \n",
      "19719          28844  7418622060883526656              良心剧！讲真，要演技有演技要颜值有颜值   \n",
      "19720          28845  7418621254742049792            很好看的一个短视频[赞][赞][赞][赞]   \n",
      "19721          28846  7418637810792662016                           害我看了半宿   \n",
      "\n",
      "       点赞数                 评论时间             用户昵称  \\\n",
      "0        0  2025-03-03 22:34:30            游客的剧场   \n",
      "1        0  2024-09-09 19:14:23              Lgj   \n",
      "2        0  2024-09-09 18:39:37        坤坤和泽塔的麻麻💖   \n",
      "3        0  2024-09-09 17:42:20               小得   \n",
      "4        0  2024-09-09 15:47:21      蚩（chi）尤短剧精选   \n",
      "...    ...                  ...              ...   \n",
      "19717    0  2024-09-26 02:03:57         光头老薛✔️✔️   \n",
      "19718    0  2024-09-26 01:31:37             就是森森   \n",
      "19719    0  2024-09-26 01:23:28          雅咩跌移库移库   \n",
      "19720    0  2024-09-26 01:10:38  用户7165131857811   \n",
      "19721    0  2024-09-26 02:39:12             展望未来   \n",
      "\n",
      "                                                  用户主页链接         用户抖音号 用户签名  \\\n",
      "0      https://www.douyin.com/user/MS4wLjABAAAARoxQZw...   56739957818   未知   \n",
      "1      https://www.douyin.com/user/MS4wLjABAAAAveqI8m...           NaN   未知   \n",
      "2      https://www.douyin.com/user/MS4wLjABAAAAcXJwnH...   28879983021   未知   \n",
      "3      https://www.douyin.com/user/MS4wLjABAAAAkZQWDz...           NaN   未知   \n",
      "4      https://www.douyin.com/user/MS4wLjABAAAADvwCW-...  21xinren9129   未知   \n",
      "...                                                  ...           ...  ...   \n",
      "19717  https://www.douyin.com/user/MS4wLjABAAAAbgF442...     shanxidll   未知   \n",
      "19718  https://www.douyin.com/user/MS4wLjABAAAAN_67Ph...   63800485058   未知   \n",
      "19719  https://www.douyin.com/user/MS4wLjABAAAAVGclMQ...           NaN   未知   \n",
      "19720  https://www.douyin.com/user/MS4wLjABAAAAn7KFFQ...   83930388885   未知   \n",
      "19721  https://www.douyin.com/user/MS4wLjABAAAARxgyi5...           NaN   未知   \n",
      "\n",
      "       回复数 ip归属  Episode  likes_norm  replies_norm  approval_score  \\\n",
      "0        0   江苏        1         0.0      0.000000        0.000000   \n",
      "1        0   湖北        1         0.0      0.000000        0.000000   \n",
      "2        0   江西        1         0.0      0.000000        0.000000   \n",
      "3        0   安徽        1         0.0      0.000000        0.000000   \n",
      "4        0   广东        1         0.0      0.000000        0.000000   \n",
      "...    ...  ...      ...         ...           ...             ...   \n",
      "19717    0   山西       91         0.0      0.000000        0.000000   \n",
      "19718    0   四川       91         0.0      0.000000        0.000000   \n",
      "19719    0   广西       91         0.0      0.000000        0.000000   \n",
      "19720    0   河南       91         0.0      0.000000        0.000000   \n",
      "19721    2   湖北       91         0.0      0.026667        0.017778   \n",
      "\n",
      "       useful_index  \n",
      "0          0.000000  \n",
      "1          0.000000  \n",
      "2          0.000000  \n",
      "3          0.000000  \n",
      "4          0.000000  \n",
      "...             ...  \n",
      "19717      0.000000  \n",
      "19718      0.000000  \n",
      "19719      0.000000  \n",
      "19720      0.000000  \n",
      "19721      0.017778  \n",
      "\n",
      "[19722 rows x 16 columns]\n"
     ]
    }
   ],
   "source": [
    "import pandas as pd\n",
    "\n",
    "# 根据 useful_index 列的数值进行筛选\n",
    "filtered_df = df[df['useful_index'] >= 0]   #75%处的值\n",
    "\n",
    "# 输出筛选后的结果\n",
    "print(filtered_df)\n",
    "\n",
    "# 如果需要保存到新的 Excel 文件\n",
    "filtered_df.to_excel(\"D:/研究生论文/小论文2/代码/01数据预处理/02输出结果-预处理/桃花马上请长缨/6.筛选后文档.xlsx\", index=False)\n"
   ]
  },
  {
   "cell_type": "markdown",
   "metadata": {},
   "source": [
    "###功能品——汽车"
   ]
  },
  {
   "cell_type": "code",
   "execution_count": 11,
   "metadata": {},
   "outputs": [
    {
     "name": "stderr",
     "output_type": "stream",
     "text": [
      "C:\\Users\\cqq\\AppData\\Local\\Temp\\ipykernel_28740\\3387344601.py:22: FutureWarning: A value is trying to be set on a copy of a DataFrame or Series through chained assignment using an inplace method.\n",
      "The behavior will change in pandas 3.0. This inplace method will never work because the intermediate object on which we are setting values always behaves as a copy.\n",
      "\n",
      "For example, when doing 'df[col].method(value, inplace=True)', try using 'df.method({col: value}, inplace=True)' or df[col] = df[col].method(value) instead, to perform the operation inplace on the original object.\n",
      "\n",
      "\n",
      "  df['user_level_norm'].fillna(0, inplace=True)\n",
      "C:\\Users\\cqq\\AppData\\Local\\Temp\\ipykernel_28740\\3387344601.py:23: FutureWarning: A value is trying to be set on a copy of a DataFrame or Series through chained assignment using an inplace method.\n",
      "The behavior will change in pandas 3.0. This inplace method will never work because the intermediate object on which we are setting values always behaves as a copy.\n",
      "\n",
      "For example, when doing 'df[col].method(value, inplace=True)', try using 'df.method({col: value}, inplace=True)' or df[col] = df[col].method(value) instead, to perform the operation inplace on the original object.\n",
      "\n",
      "\n",
      "  df['see_norm'].fillna(0, inplace=True)\n",
      "C:\\Users\\cqq\\AppData\\Local\\Temp\\ipykernel_28740\\3387344601.py:24: FutureWarning: A value is trying to be set on a copy of a DataFrame or Series through chained assignment using an inplace method.\n",
      "The behavior will change in pandas 3.0. This inplace method will never work because the intermediate object on which we are setting values always behaves as a copy.\n",
      "\n",
      "For example, when doing 'df[col].method(value, inplace=True)', try using 'df.method({col: value}, inplace=True)' or df[col] = df[col].method(value) instead, to perform the operation inplace on the original object.\n",
      "\n",
      "\n",
      "  df['likes_norm'].fillna(0, inplace=True)\n",
      "C:\\Users\\cqq\\AppData\\Local\\Temp\\ipykernel_28740\\3387344601.py:25: FutureWarning: A value is trying to be set on a copy of a DataFrame or Series through chained assignment using an inplace method.\n",
      "The behavior will change in pandas 3.0. This inplace method will never work because the intermediate object on which we are setting values always behaves as a copy.\n",
      "\n",
      "For example, when doing 'df[col].method(value, inplace=True)', try using 'df.method({col: value}, inplace=True)' or df[col] = df[col].method(value) instead, to perform the operation inplace on the original object.\n",
      "\n",
      "\n",
      "  df['replies_norm'].fillna(0, inplace=True)\n",
      "C:\\Users\\cqq\\AppData\\Local\\Temp\\ipykernel_28740\\3387344601.py:34: FutureWarning: A value is trying to be set on a copy of a DataFrame or Series through chained assignment using an inplace method.\n",
      "The behavior will change in pandas 3.0. This inplace method will never work because the intermediate object on which we are setting values always behaves as a copy.\n",
      "\n",
      "For example, when doing 'df[col].method(value, inplace=True)', try using 'df.method({col: value}, inplace=True)' or df[col] = df[col].method(value) instead, to perform the operation inplace on the original object.\n",
      "\n",
      "\n",
      "  df['authority_score'].fillna(0, inplace=True)\n",
      "C:\\Users\\cqq\\AppData\\Local\\Temp\\ipykernel_28740\\3387344601.py:35: FutureWarning: A value is trying to be set on a copy of a DataFrame or Series through chained assignment using an inplace method.\n",
      "The behavior will change in pandas 3.0. This inplace method will never work because the intermediate object on which we are setting values always behaves as a copy.\n",
      "\n",
      "For example, when doing 'df[col].method(value, inplace=True)', try using 'df.method({col: value}, inplace=True)' or df[col] = df[col].method(value) instead, to perform the operation inplace on the original object.\n",
      "\n",
      "\n",
      "  df['approval_score'].fillna(0, inplace=True)\n"
     ]
    }
   ],
   "source": [
    "import pandas as pd\n",
    "\n",
    "file_path = \"D:/研究生论文/小论文2/代码/00B站数据/04汽车之家评论爬取/秦PLUS.xlsx\"  \n",
    "df = pd.read_excel(file_path)\n",
    "\n",
    "# 假设Excel文件中的列名是中文，这里进行相应的替换\n",
    "# 添加是否VIP的布尔值权重，假设VIP为'是'，非VIP为'否'\n",
    "\n",
    "# 将相关列转换为数值类型\n",
    "df['行驶里程'] = pd.to_numeric(df['行驶里程'], errors='coerce')\n",
    "df['浏览量'] = pd.to_numeric(df['浏览量'], errors='coerce')\n",
    "df['点赞数'] = pd.to_numeric(df['点赞数'], errors='coerce')\n",
    "df['评论数'] = pd.to_numeric(df['评论数'], errors='coerce')\n",
    "\n",
    "# 标准化用户等级、点赞数和回复数\n",
    "df['user_level_norm'] = (df['行驶里程'] - df['行驶里程'].min()) / (df['行驶里程'].max() - df['行驶里程'].min())\n",
    "df['see_norm'] = (df['浏览量'] - df['浏览量'].min()) / (df['浏览量'].max() - df['浏览量'].min())\n",
    "df['likes_norm'] = (df['点赞数'] - df['点赞数'].min()) / (df['点赞数'].max() - df['点赞数'].min())\n",
    "df['replies_norm'] = (df['评论数'] - df['评论数'].min()) / (df['评论数'].max() - df['评论数'].min())\n",
    "\n",
    "# 处理缺失值\n",
    "df['user_level_norm'].fillna(0, inplace=True)\n",
    "df['see_norm'].fillna(0, inplace=True)\n",
    "df['likes_norm'].fillna(0, inplace=True)\n",
    "df['replies_norm'].fillna(0, inplace=True)\n",
    "\n",
    "# 计算权威性得分（这里假设VIP的权重和用户等级同等重要）\n",
    "df['authority_score'] = df['user_level_norm']\n",
    "\n",
    "# 计算认同度得分（这里假设点赞数和回复数同等重要）\n",
    "df['approval_score'] = (df['see_norm'] + df['likes_norm'] * 2 + df['replies_norm'] * 3) / 6\n",
    "\n",
    "# 处理缺失值\n",
    "df['authority_score'].fillna(0, inplace=True)\n",
    "df['approval_score'].fillna(0, inplace=True)\n",
    "\n",
    "# 计算综合指标\n",
    "df['useful_index'] = (df['authority_score'] * 0.4) + (df['approval_score'] * 0.6)\n",
    "\n",
    "# 输出新的DataFrame\n",
    "output_file_path = \"D:/研究生论文/小论文2/代码/01数据预处理/02输出结果-预处理/秦PLUS/1.赋权后评论.xlsx\"\n",
    "df.to_excel(output_file_path, index=False)  # 用户需要将此路径替换为希望保存的新文件的实际路径\n"
   ]
  },
  {
   "cell_type": "code",
   "execution_count": 12,
   "metadata": {},
   "outputs": [
    {
     "name": "stdout",
     "output_type": "stream",
     "text": [
      "count    4136.000000\n",
      "mean        0.001649\n",
      "std         0.012529\n",
      "min         0.000000\n",
      "25%         0.000013\n",
      "50%         0.000028\n",
      "75%         0.000271\n",
      "max         0.600000\n",
      "Name: useful_index, dtype: float64\n"
     ]
    }
   ],
   "source": [
    "\n",
    "stats = df['useful_index'].describe()\n",
    "print(stats)\n"
   ]
  },
  {
   "cell_type": "code",
   "execution_count": 14,
   "metadata": {},
   "outputs": [
    {
     "name": "stdout",
     "output_type": "stream",
     "text": [
      "              用户名           发表口碑时间        综合口碑评分  空间  驾驶感受  续航  外观  内饰  性价比  \\\n",
      "0     滨州车友2420120  2024-04-10 发表口碑  综合口碑评分\\n4.71   5     5   5   5   4    5   \n",
      "1     毕节车友7281370  2024-03-29 发表口碑  综合口碑评分\\n4.86   5     5   5   5   5    4   \n",
      "2         荆门车友天蝎座  2024-03-12 发表口碑     综合口碑评分\\n5   5     5   5   5   5    5   \n",
      "3     岳阳车友4251559  2024-03-31 发表口碑  综合口碑评分\\n4.71   5     5   5   4   5    5   \n",
      "4              黎语  2024-03-30 发表口碑  综合口碑评分\\n4.86   5     4   5   5   5    5   \n",
      "...           ...              ...           ...  ..   ...  ..  ..  ..  ...   \n",
      "4127       女味r小野7  2022-08-29 发表口碑  综合口碑评分\\n4.86   5     5   5   5   5    4   \n",
      "4128  郑州车友4979807  2022-08-29 发表口碑  综合口碑评分\\n4.86   5     5   4   5   5    5   \n",
      "4129       国民渣男97  2022-08-29 发表口碑  综合口碑评分\\n4.86   4     5   5   5   5    5   \n",
      "4130      情场稳手dq4  2022-08-29 发表口碑  综合口碑评分\\n4.86   4     5   5   5   5    5   \n",
      "4133       毁我可欢o4  2022-08-29 发表口碑  综合口碑评分\\n4.86   5     5   5   5   5    4   \n",
      "\n",
      "      智能化  ...      浏览量   点赞数   评论数  user_level_norm  see_norm likes_norm  \\\n",
      "0       4  ...    765.0   2.0   NaN              0.0  0.000650   0.001946   \n",
      "1       5  ...   9794.0   5.0   1.0              0.0  0.008333   0.007782   \n",
      "2       5  ...  78951.0  37.0  50.0              0.0  0.067177   0.070039   \n",
      "3       4  ...   1491.0   NaN   NaN              0.0  0.001268   0.000000   \n",
      "4       5  ...   1053.0   NaN   NaN              0.0  0.000895   0.000000   \n",
      "...   ...  ...      ...   ...   ...              ...       ...        ...   \n",
      "4127    5  ...    325.0   1.0   NaN              0.0  0.000276   0.000000   \n",
      "4128    5  ...    225.0   NaN   NaN              0.0  0.000191   0.000000   \n",
      "4129    5  ...    912.0   NaN   1.0              0.0  0.000775   0.000000   \n",
      "4130    5  ...    299.0   NaN   NaN              0.0  0.000254   0.000000   \n",
      "4133    5  ...    569.0   NaN   2.0              0.0  0.000483   0.000000   \n",
      "\n",
      "     replies_norm authority_score approval_score useful_index  \n",
      "0        0.000000             0.0       0.000757     0.000454  \n",
      "1        0.000000             0.0       0.003983     0.002390  \n",
      "2        0.060870             0.0       0.064977     0.038986  \n",
      "3        0.000000             0.0       0.000211     0.000127  \n",
      "4        0.000000             0.0       0.000149     0.000090  \n",
      "...           ...             ...            ...          ...  \n",
      "4127     0.000000             0.0       0.000046     0.000028  \n",
      "4128     0.000000             0.0       0.000032     0.000019  \n",
      "4129     0.000000             0.0       0.000129     0.000078  \n",
      "4130     0.000000             0.0       0.000042     0.000025  \n",
      "4133     0.001242             0.0       0.000702     0.000421  \n",
      "\n",
      "[3059 rows x 32 columns]\n"
     ]
    }
   ],
   "source": [
    "import pandas as pd\n",
    "\n",
    "# 根据 useful_index 列的数值进行筛选\n",
    "filtered_df = df[df['useful_index'] >= 0.000013]   #75%处的值\n",
    "\n",
    "# 输出筛选后的结果\n",
    "print(filtered_df)\n",
    "\n",
    "# 如果需要保存到新的 Excel 文件\n",
    "filtered_df.to_excel(\"D:/研究生论文/小论文2/代码/01数据预处理/02输出结果-预处理/秦PLUS/7.最终有效评论.xlsx\", index=False)\n"
   ]
  }
 ],
 "metadata": {
  "kernelspec": {
   "display_name": "base",
   "language": "python",
   "name": "python3"
  },
  "language_info": {
   "codemirror_mode": {
    "name": "ipython",
    "version": 3
   },
   "file_extension": ".py",
   "mimetype": "text/x-python",
   "name": "python",
   "nbconvert_exporter": "python",
   "pygments_lexer": "ipython3",
   "version": "3.11.7"
  }
 },
 "nbformat": 4,
 "nbformat_minor": 2
}
